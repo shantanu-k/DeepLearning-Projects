{
  "nbformat": 4,
  "nbformat_minor": 0,
  "metadata": {
    "colab": {
      "name": "GAN_01",
      "provenance": [],
      "collapsed_sections": [],
      "authorship_tag": "ABX9TyOZ+D35tMNorcrbbAukuk+E",
      "include_colab_link": true
    },
    "kernelspec": {
      "name": "python3",
      "display_name": "Python 3"
    },
    "accelerator": "GPU"
  },
  "cells": [
    {
      "cell_type": "markdown",
      "metadata": {
        "id": "view-in-github",
        "colab_type": "text"
      },
      "source": [
        "<a href=\"https://colab.research.google.com/github/shantanu-k/DeepLearning-Projects/blob/main/GAN_01.ipynb\" target=\"_parent\"><img src=\"https://colab.research.google.com/assets/colab-badge.svg\" alt=\"Open In Colab\"/></a>"
      ]
    },
    {
      "cell_type": "code",
      "metadata": {
        "id": "VQHDdkF9u7ID"
      },
      "source": [
        "import tensorflow as tf\n",
        "import imageio\n",
        "import glob\n",
        "import matplotlib.pyplot as plt\n",
        "import numpy as np\n",
        "import os,time"
      ],
      "execution_count": 1,
      "outputs": []
    },
    {
      "cell_type": "code",
      "metadata": {
        "colab": {
          "base_uri": "https://localhost:8080/"
        },
        "id": "yGb33yc7Bf_f",
        "outputId": "e0e67a35-e5df-4dff-d3ba-ae48759f5c20"
      },
      "source": [
        "(train_images, _), (_, _) = tf.keras.datasets.mnist.load_data()\n",
        "train_images  = (train_images.astype(np.float32)-127.5)/127.5\n",
        "train_images = train_images.reshape(train_images.shape[0], 784)\n",
        "\n",
        "train_images.dtype"
      ],
      "execution_count": 2,
      "outputs": [
        {
          "output_type": "stream",
          "text": [
            "Downloading data from https://storage.googleapis.com/tensorflow/tf-keras-datasets/mnist.npz\n",
            "11493376/11490434 [==============================] - 0s 0us/step\n"
          ],
          "name": "stdout"
        },
        {
          "output_type": "execute_result",
          "data": {
            "text/plain": [
              "dtype('float32')"
            ]
          },
          "metadata": {
            "tags": []
          },
          "execution_count": 2
        }
      ]
    },
    {
      "cell_type": "code",
      "metadata": {
        "id": "TzmgN788Bgrg"
      },
      "source": [
        "from tensorflow.keras.models import Sequential, Model\n",
        "from tensorflow.keras.callbacks import EarlyStopping\n",
        "from tensorflow.keras.optimizers import Adam\n",
        "from tensorflow.keras.layers import Dense, LeakyReLU, Dropout, Input\n",
        "from tensorflow.keras import initializers"
      ],
      "execution_count": 3,
      "outputs": []
    },
    {
      "cell_type": "code",
      "metadata": {
        "id": "sazPve9ZBhCI"
      },
      "source": [
        "np.random.seed(1000)\n",
        "randomDim = 10\n",
        "adam = Adam(learning_rate=0.002,beta_1=0.5)"
      ],
      "execution_count": 4,
      "outputs": []
    },
    {
      "cell_type": "code",
      "metadata": {
        "id": "Mxgp9w6oBhOY"
      },
      "source": [
        "# generator = Sequential()\n",
        "# generator.add(Dense(256, input_dim = randomDim))\n",
        "# generator.add(LeakyReLU(0.2))\n",
        "# generator.add(Dense(512))\n",
        "# generator.add(LeakyReLU(0.2))\n",
        "# generator.add(Dense(1024))\n",
        "# generator.add(LeakyReLU(0.2))\n",
        "# generator.add(Dense(784, activation = 'tanh'))\n",
        "\n",
        "\n",
        "generator = Sequential()\n",
        "generator.add(Dense(256, input_dim=randomDim)) #, kernel_initializer=initializers.RandomNormal(stddev=0.02)))\n",
        "generator.add(LeakyReLU(0.2))\n",
        "generator.add(Dense(512))\n",
        "generator.add(LeakyReLU(0.2))\n",
        "generator.add(Dense(1024))\n",
        "generator.add(LeakyReLU(0.2))\n",
        "generator.add(Dense(784, activation='tanh'))"
      ],
      "execution_count": 5,
      "outputs": []
    },
    {
      "cell_type": "code",
      "metadata": {
        "id": "sOLYzxMIBhbG"
      },
      "source": [
        "# discriminator = Sequential()\n",
        "# discriminator.add(Dense(1024, input_dim = 784, kernel_initializer=initializers.RandomNormal(stddev=0.02)))\n",
        "# discriminator.add(LeakyReLU(0.2))\n",
        "# discriminator.add(Dropout(0.3))\n",
        "# discriminator.add(Dense(256))\n",
        "# discriminator.add(LeakyReLU(0.2))\n",
        "# discriminator.add(Dropout(0.3))\n",
        "# discriminator.add(Dense(256))\n",
        "# discriminator.add(LeakyReLU(0.2))\n",
        "# discriminator.add(Dropout(0.3))\n",
        "# discriminator.add(Dense(1, activation = 'sigmoid'))\n",
        "\n",
        "discriminator = Sequential()\n",
        "discriminator.add(Dense(1024, input_dim=784, kernel_initializer=initializers.RandomNormal(stddev=0.02)))\n",
        "discriminator.add(LeakyReLU(0.2))\n",
        "discriminator.add(Dropout(0.3))\n",
        "discriminator.add(Dense(512))\n",
        "discriminator.add(LeakyReLU(0.2))\n",
        "discriminator.add(Dropout(0.3))\n",
        "discriminator.add(Dense(256))\n",
        "discriminator.add(LeakyReLU(0.2))\n",
        "discriminator.add(Dropout(0.3))\n",
        "discriminator.add(Dense(1, activation='sigmoid'))\n",
        "discriminator.compile(loss='binary_crossentropy', optimizer=adam)"
      ],
      "execution_count": 6,
      "outputs": []
    },
    {
      "cell_type": "code",
      "metadata": {
        "id": "c_Hs4nfGBhmh"
      },
      "source": [
        "# discriminator.trainable = False\n",
        "# ganInput = Input(shape=(randomDim,))\n",
        "# x =  generator(ganInput)\n",
        "# ganOutput = discriminator(x)\n",
        "# gan = Model(inputs = ganInput, outputs = ganOutput)\n",
        "\n",
        "discriminator.trainable = False\n",
        "ganInput = Input(shape=(randomDim,))\n",
        "x = generator(ganInput)\n",
        "ganOutput = discriminator(x)\n",
        "gan = Model(inputs=ganInput, outputs=ganOutput)\n",
        "gan.compile(loss='binary_crossentropy', optimizer=adam)\n",
        "\n",
        "dLosses = []\n",
        "gLosses = []"
      ],
      "execution_count": 7,
      "outputs": []
    },
    {
      "cell_type": "code",
      "metadata": {
        "id": "2kjdc0NWBh2I"
      },
      "source": [
        "# discriminator.compile(loss = 'binary_crossentropy', optimizer = adam)\n",
        "# gan.compile(loss = \"binary_crossentropy\", optimizer = adam)"
      ],
      "execution_count": 8,
      "outputs": []
    },
    {
      "cell_type": "code",
      "metadata": {
        "id": "6R101vwMuhyc"
      },
      "source": [
        ""
      ],
      "execution_count": 8,
      "outputs": []
    },
    {
      "cell_type": "code",
      "metadata": {
        "id": "p9Z2cc2_uiMc"
      },
      "source": [
        ""
      ],
      "execution_count": 8,
      "outputs": []
    },
    {
      "cell_type": "code",
      "metadata": {
        "id": "LQnRmagJBh8u"
      },
      "source": [
        "# def train_gan(epochs = 1, batchSize = 128):\n",
        "#     batchCount = int(train_images.shape[0] / batchSize)\n",
        "#     print ('Epochs:', epochs)\n",
        "#     print ('Batch size:', batchSize)\n",
        "#     print ('Batches per epoch:', batchCount)\n",
        "    \n",
        "#     for e in range(1,epochs+1):\n",
        "#         print('-'*15, 'Epoch %d' % e, '-'*15)\n",
        "#         for i in range(batchCount):\n",
        "#             noise = np.random.normal(0,1,size = [batchSize,randomDim])\n",
        "#             dataBatch = train_images[np.random.randint(0,train_images.shape[0],size = batchSize)]\n",
        "\n",
        "#             generatedImages = generator.predict(noise)\n",
        "#             X = np.concatenate([dataBatch,generatedImages])\n",
        "#             yDis = np.zeros(2*batchSize)\n",
        "#             yDis[:batchSize] = 1\n",
        "#             # Discriminiator Training\n",
        "#             discriminator.trainable = True\n",
        "#             dloss = discriminator.train_on_batch(X, yDis)\n",
        "#             #Generator Training\n",
        "#             noise = np.random.normal(0, 1, size=[batchSize, randomDim])\n",
        "#             yGen = np.ones(batchSize)   \n",
        "#             discriminator.trainable = False\n",
        "#             gloss = gan.train_on_batch(noise, yGen)\n",
        "#             # Record Losses\n",
        "#         print(dloss, gloss)\n",
        "#         dlosses.append(dloss)\n",
        "#         glosses.append(gloss)\n",
        "\n",
        "    # if e == 1 or e % 4 == 0:\n",
        "    #     saveGeneratedImages(e)\n",
        "\n",
        "\n",
        "def train(epochs=1, batchSize=128):\n",
        "    batchCount = int(train_images.shape[0] / batchSize)\n",
        "    print ('Epochs:', epochs)\n",
        "    print ('Batch size:', batchSize)\n",
        "    print ('Batches per epoch:', batchCount)\n",
        "\n",
        "    for e in range(1, epochs+1):\n",
        "        print ('-'*15, 'Epoch %d' % e, '-'*15)\n",
        "        for _ in range(batchCount):\n",
        "            # Get a random set of input noise and images\n",
        "            noise = np.random.normal(0, 1, size=[batchSize, randomDim])\n",
        "            imageBatch = train_images[np.random.randint(0, train_images.shape[0], size=batchSize)]\n",
        "            imageBatch  = imageBatch + np.random.normal(0,0.25, size= imageBatch.shape)\n",
        "            # Generate fake MNIST images\n",
        "            generatedImages = generator.predict(noise)\n",
        "            # print np.shape(imageBatch), np.shape(generatedImages)\n",
        "            X = np.concatenate([imageBatch, generatedImages])\n",
        "\n",
        "            # Labels for generated and real data\n",
        "            yDis = np.zeros(2*batchSize)\n",
        "            # One-sided label smoothing\n",
        "            yDis[:batchSize] = 0.9\n",
        "\n",
        "            # Train discriminator\n",
        "            discriminator.trainable = True\n",
        "            dloss = discriminator.train_on_batch(X, yDis)\n",
        "\n",
        "            # Train generator\n",
        "            noise = np.random.normal(0, 1, size=[batchSize, randomDim])\n",
        "            yGen = np.ones(batchSize)\n",
        "            discriminator.trainable = False\n",
        "            gloss = gan.train_on_batch(noise, yGen)\n",
        "\n",
        "        # Store loss of most recent batch from this epoch\n",
        "        dLosses.append(dloss)\n",
        "        gLosses.append(gloss)"
      ],
      "execution_count": 9,
      "outputs": []
    },
    {
      "cell_type": "code",
      "metadata": {
        "id": "fu5_eW5JBiEq"
      },
      "source": [
        "def plotLoss(epoch):\n",
        "    plt.figure(figsize=(10, 8))\n",
        "    plt.plot(dLosses, label='Discriminitive loss')\n",
        "    plt.plot(gLosses, label='Generative loss')\n",
        "    plt.xlabel('Epoch')\n",
        "    plt.ylabel('Loss')\n",
        "    plt.legend()"
      ],
      "execution_count": 10,
      "outputs": []
    },
    {
      "cell_type": "code",
      "metadata": {
        "id": "5kUWI4txBiIZ"
      },
      "source": [
        "def saveGeneratedImages(epoch, examples=100, dim=(10, 10),figsize=(10, 10)):\n",
        "    noise = np.random.normal(0, 1, size=[examples, randomDim])\n",
        "    generatedImages = generator.predict(noise)\n",
        "    generatedImages = generatedImages.reshape(examples, 28, 28)\n",
        "    plt.figure(figsize=figsize)\n",
        "    for i in range(generatedImages.shape[0]):\n",
        "        plt.subplot(dim[0], dim[1], i+1)\n",
        "        plt.imshow(generatedImages[i], interpolation='bilinear',\n",
        "        cmap='gray_r')\n",
        "        plt.axis('off')\n",
        "        plt.tight_layout()\n",
        "        # plt.savefig('images/gan_generated_image_epoch_%d.png' % epoch)"
      ],
      "execution_count": 11,
      "outputs": []
    },
    {
      "cell_type": "code",
      "metadata": {
        "colab": {
          "base_uri": "https://localhost:8080/"
        },
        "id": "wKWwdSJ4BiLQ",
        "outputId": "7738a3cf-6eeb-4d99-8ad5-22dd225d9353"
      },
      "source": [
        "dlosses = []\n",
        "glosses = []\n",
        "train(epochs = 30)"
      ],
      "execution_count": 12,
      "outputs": [
        {
          "output_type": "stream",
          "text": [
            "Epochs: 30\n",
            "Batch size: 128\n",
            "Batches per epoch: 468\n",
            "--------------- Epoch 1 ---------------\n",
            "--------------- Epoch 2 ---------------\n",
            "--------------- Epoch 3 ---------------\n",
            "--------------- Epoch 4 ---------------\n",
            "--------------- Epoch 5 ---------------\n",
            "--------------- Epoch 6 ---------------\n",
            "--------------- Epoch 7 ---------------\n",
            "--------------- Epoch 8 ---------------\n",
            "--------------- Epoch 9 ---------------\n",
            "--------------- Epoch 10 ---------------\n",
            "--------------- Epoch 11 ---------------\n",
            "--------------- Epoch 12 ---------------\n",
            "--------------- Epoch 13 ---------------\n",
            "--------------- Epoch 14 ---------------\n",
            "--------------- Epoch 15 ---------------\n",
            "--------------- Epoch 16 ---------------\n",
            "--------------- Epoch 17 ---------------\n",
            "--------------- Epoch 18 ---------------\n",
            "--------------- Epoch 19 ---------------\n",
            "--------------- Epoch 20 ---------------\n",
            "--------------- Epoch 21 ---------------\n",
            "--------------- Epoch 22 ---------------\n",
            "--------------- Epoch 23 ---------------\n",
            "--------------- Epoch 24 ---------------\n",
            "--------------- Epoch 25 ---------------\n",
            "--------------- Epoch 26 ---------------\n",
            "--------------- Epoch 27 ---------------\n",
            "--------------- Epoch 28 ---------------\n",
            "--------------- Epoch 29 ---------------\n",
            "--------------- Epoch 30 ---------------\n"
          ],
          "name": "stdout"
        }
      ]
    },
    {
      "cell_type": "code",
      "metadata": {
        "id": "TG41qlaLKd_D"
      },
      "source": [
        ""
      ],
      "execution_count": 12,
      "outputs": []
    },
    {
      "cell_type": "code",
      "metadata": {
        "colab": {
          "base_uri": "https://localhost:8080/",
          "height": 162
        },
        "id": "mfAWnkUOZND2",
        "outputId": "f61dcda2-02a5-46e9-c1ed-1f29e18be383"
      },
      "source": [
        "saveGeneratedImages(1, examples = 20)"
      ],
      "execution_count": 13,
      "outputs": [
        {
          "output_type": "display_data",
          "data": {
            "image/png": "[encoded data removed]",
            "text/plain": [
              "<Figure size 720x720 with 20 Axes>"
            ]
          },
          "metadata": {
            "tags": [],
            "needs_background": "light"
          }
        }
      ]
    },
    {
      "cell_type": "code",
      "metadata": {
        "colab": {
          "base_uri": "https://localhost:8080/",
          "height": 514
        },
        "id": "1B6JJPqNg6Pr",
        "outputId": "2c843808-201b-4658-9293-a5590ed69e8d"
      },
      "source": [
        "plt.figure(figsize=(10, 8))\n",
        "plt.plot(dLosses, label='Discriminitive loss')\n",
        "plt.plot(gLosses, label='Generative loss')\n",
        "plt.xlabel('Epoch')\n",
        "plt.ylabel('Loss')\n",
        "plt.legend()"
      ],
      "execution_count": 14,
      "outputs": [
        {
          "output_type": "execute_result",
          "data": {
            "text/plain": [
              "<matplotlib.legend.Legend at 0x7f8208b3f8d0>"
            ]
          },
          "metadata": {
            "tags": []
          },
          "execution_count": 14
        },
        {
          "output_type": "display_data",
          "data": {
            "image/png": "[encoded data removed]",
            "text/plain": [
              "<Figure size 720x576 with 1 Axes>"
            ]
          },
          "metadata": {
            "tags": [],
            "needs_background": "light"
          }
        }
      ]
    },
    {
      "cell_type": "code",
      "metadata": {
        "id": "tOV2x0qDhE6v"
      },
      "source": [
        "batchSize = 10\n",
        "noise = np.random.normal(0, 1, size=[batchSize, randomDim])\n",
        "# yGen = np.ones(batchSize)   \n",
        "# discriminator.trainable = False\n",
        "# gloss = gan.train_on_batch(noise, yGen)"
      ],
      "execution_count": 15,
      "outputs": []
    },
    {
      "cell_type": "code",
      "metadata": {
        "colab": {
          "base_uri": "https://localhost:8080/",
          "height": 282
        },
        "id": "6_215NuArqQh",
        "outputId": "935ce69e-c963-44e0-bb41-6da34b9dc9a8"
      },
      "source": [
        "img = generator.predict(noise).reshape(-1,28,28)\n",
        "plt.imshow(img[1], cmap = \"gray\")"
      ],
      "execution_count": 25,
      "outputs": [
        {
          "output_type": "execute_result",
          "data": {
            "text/plain": [
              "<matplotlib.image.AxesImage at 0x7f820902c250>"
            ]
          },
          "metadata": {
            "tags": []
          },
          "execution_count": 25
        },
        {
          "output_type": "display_data",
          "data": {
            "image/png": "[encoded data removed]",
            "text/plain": [
              "<Figure size 432x288 with 1 Axes>"
            ]
          },
          "metadata": {
            "tags": [],
            "needs_background": "light"
          }
        }
      ]
    },
    {
      "cell_type": "code",
      "metadata": {
        "colab": {
          "base_uri": "https://localhost:8080/"
        },
        "id": "vxQ99tjt0Nw3",
        "outputId": "f7cb0c54-a3ae-4458-fc80-bbad488ce6d8"
      },
      "source": [
        "discriminator.trainable = True\n",
        "gan.summary()"
      ],
      "execution_count": 17,
      "outputs": [
        {
          "output_type": "stream",
          "text": [
            "Model: \"model\"\n",
            "_________________________________________________________________\n",
            "Layer (type)                 Output Shape              Param #   \n",
            "=================================================================\n",
            "input_1 (InputLayer)         [(None, 10)]              0         \n",
            "_________________________________________________________________\n",
            "sequential (Sequential)      (None, 784)               1463312   \n",
            "_________________________________________________________________\n",
            "sequential_1 (Sequential)    (None, 1)                 1460225   \n",
            "=================================================================\n",
            "Total params: 2,923,537\n",
            "Trainable params: 2,923,537\n",
            "Non-trainable params: 0\n",
            "_________________________________________________________________\n"
          ],
          "name": "stdout"
        }
      ]
    },
    {
      "cell_type": "code",
      "metadata": {
        "colab": {
          "base_uri": "https://localhost:8080/",
          "height": 282
        },
        "id": "TCTy2MEl0a6X",
        "outputId": "e021b2b7-83f5-43f8-c0bf-5ab39d77734b"
      },
      "source": [
        "dataBatch = train_images[np.random.randint(0,train_images.shape[0],size = 10)]\n",
        "plt.imshow(dataBatch[5].reshape(28,28))"
      ],
      "execution_count": 22,
      "outputs": [
        {
          "output_type": "execute_result",
          "data": {
            "text/plain": [
              "<matplotlib.image.AxesImage at 0x7f8208dab090>"
            ]
          },
          "metadata": {
            "tags": []
          },
          "execution_count": 22
        },
        {
          "output_type": "display_data",
          "data": {
            "image/png": "[encoded data removed]",
            "text/plain": [
              "<Figure size 432x288 with 1 Axes>"
            ]
          },
          "metadata": {
            "tags": [],
            "needs_background": "light"
          }
        }
      ]
    },
    {
      "cell_type": "code",
      "metadata": {
        "colab": {
          "base_uri": "https://localhost:8080/"
        },
        "id": "anl5nkBJ09Ii",
        "outputId": "6f10671e-0f39-4aa4-cd48-e7b2e52901e4"
      },
      "source": [
        "discriminator.predict(np.concatenate([dataBatch,generator.predict(noise)]))"
      ],
      "execution_count": 23,
      "outputs": [
        {
          "output_type": "execute_result",
          "data": {
            "text/plain": [
              "array([[8.9490902e-01],\n",
              "       [8.8458550e-01],\n",
              "       [8.8859779e-01],\n",
              "       [9.0359437e-01],\n",
              "       [8.7242281e-01],\n",
              "       [8.9777517e-01],\n",
              "       [9.2057222e-01],\n",
              "       [9.0295249e-01],\n",
              "       [8.9261293e-01],\n",
              "       [8.8211060e-01],\n",
              "       [1.4865398e-04],\n",
              "       [1.5512109e-04],\n",
              "       [1.4352798e-04],\n",
              "       [1.4552474e-04],\n",
              "       [1.4644861e-04],\n",
              "       [1.4352798e-04],\n",
              "       [1.4352798e-04],\n",
              "       [1.4865398e-04],\n",
              "       [1.4558434e-04],\n",
              "       [1.4352798e-04]], dtype=float32)"
            ]
          },
          "metadata": {
            "tags": []
          },
          "execution_count": 23
        }
      ]
    },
    {
      "cell_type": "code",
      "metadata": {
        "colab": {
          "base_uri": "https://localhost:8080/"
        },
        "id": "e2hoJ0TA1WW-",
        "outputId": "c43a0228-a8c9-4b80-9294-fe70ececb7d0"
      },
      "source": [
        "gan.predict(noise)"
      ],
      "execution_count": 20,
      "outputs": [
        {
          "output_type": "execute_result",
          "data": {
            "text/plain": [
              "array([[0.00014865],\n",
              "       [0.00015512],\n",
              "       [0.00014353],\n",
              "       [0.00014552],\n",
              "       [0.00014645],\n",
              "       [0.00014353],\n",
              "       [0.00014353],\n",
              "       [0.00014865],\n",
              "       [0.00014552],\n",
              "       [0.00014353]], dtype=float32)"
            ]
          },
          "metadata": {
            "tags": []
          },
          "execution_count": 20
        }
      ]
    },
    {
      "cell_type": "code",
      "metadata": {
        "id": "llOBYqd3mG7B"
      },
      "source": [
        ""
      ],
      "execution_count": 21,
      "outputs": []
    }
  ]
}